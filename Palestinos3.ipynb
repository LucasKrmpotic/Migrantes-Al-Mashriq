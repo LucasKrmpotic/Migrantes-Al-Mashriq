{
 "cells": [
  {
   "cell_type": "markdown",
   "metadata": {},
   "source": [
    "# Geolocalización de ciudades de origen de migrantes\n",
    "\n",
    "+ Api de Google Maps\n",
    "+ Geoencoding, y ubicación de cada una en el mapa "
   ]
  },
  {
   "cell_type": "code",
   "execution_count": 9,
   "metadata": {
    "collapsed": true
   },
   "outputs": [],
   "source": [
    "import pandas as pd\n",
    "import numpy as np \n",
    "from matplotlib import pyplot as plt\n",
    "\n",
    "%matplotlib inline"
   ]
  },
  {
   "cell_type": "code",
   "execution_count": 11,
   "metadata": {},
   "outputs": [
    {
     "name": "stdout",
     "output_type": "stream",
     "text": [
      " HADJIN\n",
      "\n",
      "En la peticion 0, el status es OVER_QUERY_LIMIT\n",
      "no me contesta google\n",
      "Empty DataFrame\n",
      "Columns: [LUGNAC, LAT, LNG, PAIS, CIUDAD]\n",
      "Index: []\n",
      "[]\n",
      "1\n"
     ]
    }
   ],
   "source": [
    "import requests\n",
    "\n",
    "API_KEY = ''\n",
    "GOOGLE_MAPS_API_URL = 'http://maps.googleapis.com/maps/api/geocode/json'\n",
    "\n",
    "\n",
    "df_ciudades = pd.DataFrame(columns=['LUGNAC', 'LAT', 'LNG', 'PAIS', 'CIUDAD'])\n",
    "\n",
    "noEncontradas = []\n",
    "contador = 0\n",
    "\n",
    "if contador < 1:\n",
    "    for ciudad in open(\"ciudades.txt\"):\n",
    "        print(ciudad)\n",
    "        \n",
    "        geocode_url = GOOGLE_MAPS_API_URL + '?address={}&key{}'.format(ciudad, API_KEY)\n",
    "        \n",
    "        req = requests.get(geocode_url)\n",
    "        res = req.json()\n",
    "\n",
    "        # Si se me acabó la cuota de requestes: break\n",
    "        print(\"En la peticion {}, el status es {}\".format(contador, res['status']))\n",
    "  \n",
    "        if res['status'] == \"OVER_QUERY_LIMIT\":\n",
    "            print(\"no me contesta google\")\n",
    "            contador = contador + 1\n",
    "            break\n",
    "\n",
    "        # Si no hay resultados para la buqueda: continue\n",
    "        if len(res['results']) == 0:\n",
    "            noEncontradas.append(ciudad)\n",
    "            contador = contador + 1\n",
    "        \n",
    "        else:\n",
    "\n",
    "            result = res['results'][0]\n",
    "\n",
    "            def returned_component(criteria, components):\n",
    "                for component in components:\n",
    "                    if criteria in component[\"types\"]:\n",
    "                        return component[\"long_name\"]\n",
    "\n",
    "            geodata = pd.DataFrame(\n",
    "                {\n",
    "                    'LUGNAC':ciudad, \n",
    "                    'LAT':result['geometry']['location']['lat'],\n",
    "                    'LNG':result['geometry']['location']['lng'],\n",
    "                    'PAIS':lambda x: returned_component(\"country\", result[\"address_components\"]), \n",
    "                    'CIUDAD':lambda x: returned_component(\"locality\", result[\"address_components\"])\n",
    "                }\n",
    "            )\n",
    "\n",
    "            df_ciudades.append(geodata)\n",
    "            print(geodata)\n",
    "\n",
    "            contador = contador + 1\n",
    "            \n",
    "print(df_ciudades)\n",
    "print(noEncontradas)\n",
    "print(contador)"
   ]
  },
  {
   "cell_type": "code",
   "execution_count": null,
   "metadata": {},
   "outputs": [],
   "source": [
    "noEncontradas"
   ]
  },
  {
   "cell_type": "code",
   "execution_count": null,
   "metadata": {},
   "outputs": [],
   "source": [
    "df_ciudades"
   ]
  },
  {
   "cell_type": "code",
   "execution_count": null,
   "metadata": {
    "collapsed": true
   },
   "outputs": [],
   "source": []
  }
 ],
 "metadata": {
  "kernelspec": {
   "display_name": "Python 3",
   "language": "python",
   "name": "python3"
  },
  "language_info": {
   "codemirror_mode": {
    "name": "ipython",
    "version": 3
   },
   "file_extension": ".py",
   "mimetype": "text/x-python",
   "name": "python",
   "nbconvert_exporter": "python",
   "pygments_lexer": "ipython3",
   "version": "3.6.3"
  }
 },
 "nbformat": 4,
 "nbformat_minor": 2
}
